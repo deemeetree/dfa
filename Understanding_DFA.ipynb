{
  "nbformat": 4,
  "nbformat_minor": 0,
  "metadata": {
    "colab": {
      "name": "Understanding DFA.ipynb",
      "provenance": [],
      "collapsed_sections": [],
      "authorship_tag": "ABX9TyNdpq32ky9BwHouNdrOxbGS",
      "include_colab_link": true
    },
    "kernelspec": {
      "name": "python3",
      "display_name": "Python 3"
    },
    "language_info": {
      "name": "python"
    }
  },
  "cells": [
    {
      "cell_type": "markdown",
      "metadata": {
        "id": "view-in-github",
        "colab_type": "text"
      },
      "source": [
        "<a href=\"https://colab.research.google.com/github/deemeetree/dfa/blob/master/Understanding_DFA.ipynb\" target=\"_parent\"><img src=\"https://colab.research.google.com/assets/colab-badge.svg\" alt=\"Open In Colab\"/></a>"
      ]
    },
    {
      "cell_type": "code",
      "metadata": {
        "id": "cuC1jRSWI-xJ"
      },
      "source": [
        ""
      ],
      "execution_count": null,
      "outputs": []
    },
    {
      "cell_type": "markdown",
      "metadata": {
        "id": "P4cq-FC7IB5X"
      },
      "source": [
        "**Detrended Fluctuation Analysis** is used to compare fluctuations of a signal across different time scales. The log of the (sum of the?) fluctuations are plotted on the Y axis against the log of the time scale length (X axis). If the relation is linear, there's a power law relation between the signal and the time. That is, there are a few signals with significantly high values (e.g. amplitude) and then there's many signals with a low value — hence, the power law. \n",
        "\n",
        "How is it calculated? First, we import the necessary libraries:\n"
      ]
    },
    {
      "cell_type": "code",
      "metadata": {
        "id": "8N4E1es7H_3a"
      },
      "source": [
        "import pandas as pd\n",
        "import numpy as np\n",
        "import math\n",
        "import matplotlib.pyplot as plt"
      ],
      "execution_count": null,
      "outputs": []
    },
    {
      "cell_type": "markdown",
      "metadata": {
        "id": "lZip8W1TMD5W"
      },
      "source": [
        "Then define numpy array. Let's say in the first case it consists of 16 values, each oscillates around the mean of 8.\n",
        "\n"
      ]
    },
    {
      "cell_type": "code",
      "metadata": {
        "id": "T4JSmDcwMT4N"
      },
      "source": [
        "x = np.array([8, 10, 6, 9, 7, 5, 5, 11, 11, 8, 6, 7, 9, 10, 7, 9])"
      ],
      "execution_count": null,
      "outputs": []
    },
    {
      "cell_type": "markdown",
      "metadata": {
        "id": "4kSGMsscMwa3"
      },
      "source": [
        "Let's plot this array to see the signal:"
      ]
    },
    {
      "cell_type": "code",
      "metadata": {
        "id": "hOhxaRFtNNEz"
      },
      "source": [
        "plt.plot(x)\n",
        "plt.show()"
      ],
      "execution_count": null,
      "outputs": []
    },
    {
      "cell_type": "markdown",
      "metadata": {
        "id": "itM-157iNZkn"
      },
      "source": [
        "We see that this signal oscillates around the mean of 8 with the standard deviation of 1.9 and variance 3.6:"
      ]
    },
    {
      "cell_type": "code",
      "metadata": {
        "id": "qUu3MtDDNc-y"
      },
      "source": [
        "# mean\n",
        "print(x.mean())\n",
        "\n",
        "# standard deviation\n",
        "print(x.std())\n",
        "\n",
        "# variance\n",
        "variance = 0\n",
        "for v in x:\n",
        "  variance = variance + abs(v - x.mean())**2\n",
        "print(variance)\n",
        "print(variance / x.size)\n",
        "\n",
        "# standard deviation from variance\n",
        "stdev = math.sqrt(variance / (x.size))\n",
        "print(stdev)\n"
      ],
      "execution_count": null,
      "outputs": []
    },
    {
      "cell_type": "markdown",
      "metadata": {
        "id": "dOqJ_mmeSLQh"
      },
      "source": [
        "To calculate this signal's DFA we will take the following steps:"
      ]
    },
    {
      "cell_type": "code",
      "metadata": {
        "id": "JcK5QTGDSPmg"
      },
      "source": [
        "# create an array with a cumulative sum of each deviation across the scale\n",
        "\n",
        "y = np.cumsum(x - np.mean(x))\n",
        "print(x)\n",
        "print(y)\n",
        "\n",
        "# this is basically transforming the normal process into random walk\n",
        "\n",
        "plt.plot(y)\n",
        "plt.show()\n"
      ],
      "execution_count": null,
      "outputs": []
    },
    {
      "cell_type": "code",
      "metadata": {
        "id": "9h70lSA4U1OO"
      },
      "source": [
        "# create the scales we're going to use\n",
        "# i.e. how many numbers we're going to have in each scale\n",
        "\n",
        "scales = (2**np.arange(2, 4.5, 0.5)).astype(np.int)\n",
        "print(scales)\n",
        "\n",
        "# prepare an array for fluctuations calculation for every scale\n",
        "\n",
        "fluct = np.zeros(len(scales))\n",
        "print(fluct)"
      ],
      "execution_count": null,
      "outputs": []
    },
    {
      "cell_type": "markdown",
      "metadata": {
        "id": "qK-xNrkpW8_B"
      },
      "source": [
        "Now we will add our cumulative fluctuation value for each window and calculate RMS (root mean square) for each:"
      ]
    },
    {
      "cell_type": "code",
      "metadata": {
        "id": "3Hh9bPq9XI11"
      },
      "source": [
        "# making an array with data divided into time windows\n",
        "\n",
        "# for each scale \n",
        "\n",
        "for e, sc in enumerate(scales):\n",
        "  \n",
        "  # how many times we have to divide the scale to fit the numbers in each\n",
        "  # number of windows, number of elements in each window (rows, columns)\n",
        "  shape = (y.shape[0]//sc, sc)\n",
        "  print('shape', shape)\n",
        "  \n",
        "  # create an array with data divided in windows for each scale (rows, columns)\n",
        "  X = np.lib.stride_tricks.as_strided(y,shape=shape)\n",
        "  print('strides',X)\n",
        "\n",
        "  # create a vector for each row (number columns)\n",
        "  scale_ax = np.arange(sc)\n",
        "  print('scale',scale_ax)\n",
        "\n",
        "  # rows - the number of windows for each scale\n",
        "  rms = np.zeros(X.shape[0])\n",
        "  \n",
        "    \n",
        "  # for each value in the window (each column in a row)\n",
        "  for w, xcut in enumerate(X):\n",
        "    # calculate polynomial fit of the cumsum to x in 1D\n",
        "    # e.g. make a straight line that fits values found in that window row\n",
        "    coeff = np.polyfit(scale_ax, xcut, 1)\n",
        "    print('window values', xcut)\n",
        "    print('coeff', coeff)\n",
        "\n",
        "    # use polyfit coefficients to build a straight line\n",
        "    # this is how we detrend the data\n",
        "    xfit = np.polyval(coeff, scale_ax)\n",
        "    print('xfit', xfit)\n",
        "\n",
        "    # root mean square of the difference between the value and the fit\n",
        "    rms[w] = np.sqrt(np.mean((xcut-xfit)**2))\n",
        "    # print('rms',e,rms[e])\n",
        "    # which is the same as stdev\n",
        "    # stdv = (xcut-xfit).std()\n",
        "  \n",
        "  print(rms)\n",
        "  fluct[e] = np.sqrt(np.mean(rms**2))\n",
        "\n",
        "# now we have data on all fluctuations\n",
        "print('fluct',fluct)\n",
        "\n",
        "alpha = np.polyfit(scales, fluct, 1)\n",
        "alpha2 = np.polyfit(np.log2(scales), np.log2(fluct), 1)\n",
        "\n",
        "fluctfit = 2**np.polyval(alpha2,np.log2(scales))\n",
        "\n",
        "\n",
        "plt.loglog(scales,fluctfit, \"r\", basex=2,basey=2)\n",
        "plt.loglog(scales,fluct, \"bo\",basex=2,basey=2)\n",
        "plt.show()\n",
        "\n",
        "fluctfit2 = np.polyval(alpha,scales)\n",
        "\n",
        "plt.plot(scales,fluctfit2, \"r\")\n",
        "plt.plot(scales,fluct, \"bo\")\n",
        "\n",
        "plt.show()\n",
        "\n",
        "print('alpha', alpha)\n",
        "print('alpha2', alpha2)\n",
        "\n",
        "# interpretation\n",
        "\n",
        "# alpha = 0.5 - when the scale increases 2 times the sq root of variance increases about 1.5 times\n",
        "# alpha = 1 - scale increases 2 times and variance grows 2 times - on the limit between tending to an average and exploding exponentially\n",
        "# fractal means we find the same kind of logic we find in the small scale on the big scale\n",
        "# alpha > 1.1 - complex means we increase the period of observation and the logic breaks — there is no stationery mean — things are changing too much (influence from the outside?)\n"
      ],
      "execution_count": null,
      "outputs": []
    }
  ]
}